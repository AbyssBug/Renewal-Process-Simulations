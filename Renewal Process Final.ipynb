{
 "cells": [
  {
   "cell_type": "markdown",
   "id": "38ec0e92",
   "metadata": {},
   "source": [
    "## Renewal Process - Python \n",
    "       a. simulate sum of random variables of the different distributions to cross given number \n",
    "       b. simulate inspection paradox for discrete, Poisson and other continuous distributions\n",
    "       c. Simulate renewal process given the distribution with parameters e.g. Uniform and the Normal.  Find theoretical values for such runs and also simulate and show values\n",
    "       d. Visualize renewal process"
   ]
  },
  {
   "cell_type": "code",
   "execution_count": 1,
   "id": "60ebb5ea",
   "metadata": {},
   "outputs": [],
   "source": [
    "import pandas as pd\n",
    "import numpy as np\n",
    "import random"
   ]
  },
  {
   "cell_type": "code",
   "execution_count": 2,
   "id": "04f434db",
   "metadata": {},
   "outputs": [],
   "source": [
    "import statistics as st"
   ]
  },
  {
   "cell_type": "code",
   "execution_count": 3,
   "id": "df799c65",
   "metadata": {},
   "outputs": [],
   "source": [
    "import matplotlib.pyplot as plt"
   ]
  },
  {
   "cell_type": "markdown",
   "id": "4e31aede",
   "metadata": {},
   "source": [
    "### 1. Simulate sum of random variables of different distributions to cross given number \n",
    "\n",
    "#### Uniform Distribution\n"
   ]
  },
  {
   "cell_type": "code",
   "execution_count": 4,
   "id": "80f94f7e",
   "metadata": {},
   "outputs": [],
   "source": [
    "s = 0 #set sum = 0\n",
    "count = 0 #set count = 0\n",
    "countvec = [] #create a list to store counts of how many variables to be added\n",
    "\n",
    "for i in range(10000):# for every iteration set initial values\n",
    "    x = random.uniform(0,1)\n",
    "    s = 0\n",
    "    count = 0\n",
    "    while s < 5:# keep iterating till sum >= 1\n",
    "        s += x\n",
    "        count += 1\n",
    "        x = random.uniform(0,1)\n",
    "    countvec.append(count) \n"
   ]
  },
  {
   "cell_type": "code",
   "execution_count": 5,
   "id": "f77b77a7",
   "metadata": {},
   "outputs": [
    {
     "data": {
      "text/plain": [
       "5.618081996894513"
      ]
     },
     "execution_count": 5,
     "metadata": {},
     "output_type": "execute_result"
    }
   ],
   "source": [
    "s"
   ]
  },
  {
   "cell_type": "code",
   "execution_count": 6,
   "id": "57635417",
   "metadata": {},
   "outputs": [
    {
     "data": {
      "text/plain": [
       "10.6651"
      ]
     },
     "execution_count": 6,
     "metadata": {},
     "output_type": "execute_result"
    }
   ],
   "source": [
    "# in the long run, the number of uniform random variates\n",
    "# needed to get a sum >= 1 \n",
    "sum(countvec)/10000\n",
    "# value approximates to e for uniform (0,1) where sum should cross 1"
   ]
  },
  {
   "cell_type": "code",
   "execution_count": 7,
   "id": "7f4f727e",
   "metadata": {},
   "outputs": [
    {
     "name": "stdout",
     "output_type": "stream",
     "text": [
      "23\n",
      "0 0\n",
      "1 0\n",
      "2 0\n",
      "3 0\n",
      "4 0\n",
      "5 0\n",
      "6 15\n",
      "7 233\n",
      "8 871\n",
      "9 1751\n",
      "10 2109\n",
      "11 1991\n",
      "12 1427\n",
      "13 869\n",
      "14 409\n",
      "15 202\n",
      "16 79\n",
      "17 29\n",
      "18 11\n",
      "19 3\n",
      "20 0\n",
      "21 0\n",
      "22 0\n",
      "23 1\n"
     ]
    }
   ],
   "source": [
    "#avg_counter = mean(countvec) \n",
    "#print (\"avergae of rv counter\",avg_counter)\n",
    "max_counter = max(countvec)\n",
    "print (max_counter)\n",
    "\n",
    "for i in range (max_counter+1) :\n",
    "    count = countvec.count(i)\n",
    "    print (i, count)"
   ]
  },
  {
   "cell_type": "markdown",
   "id": "f129e034",
   "metadata": {},
   "source": [
    "#### Rolling of a die"
   ]
  },
  {
   "cell_type": "code",
   "execution_count": 8,
   "id": "2826a3fe",
   "metadata": {},
   "outputs": [],
   "source": [
    "s = 0 #set sum = 0\n",
    "count = 0 #set count = 0\n",
    "countvec = [] #create a list to store values of counts\n",
    "die_roll = [1,2,3,4,5,6] # sample space for rolling a die\n",
    "for i in range(10000):# for every iteration set initial values\n",
    "    x = random.sample(die_roll,1)\n",
    "    s = 0\n",
    "    count = 0\n",
    "    while s < 7:# keep iterating till sum >= 1\n",
    "        s += x[0]\n",
    "        count += 1\n",
    "        x = random.sample(die_roll,1)\n",
    "    countvec.append(count) "
   ]
  },
  {
   "cell_type": "code",
   "execution_count": 9,
   "id": "f011f3a8",
   "metadata": {},
   "outputs": [
    {
     "data": {
      "text/plain": [
       "3"
      ]
     },
     "execution_count": 9,
     "metadata": {},
     "output_type": "execute_result"
    }
   ],
   "source": [
    "x[0]"
   ]
  },
  {
   "cell_type": "code",
   "execution_count": 10,
   "id": "e05998c7",
   "metadata": {},
   "outputs": [
    {
     "data": {
      "text/plain": [
       "2.5211"
      ]
     },
     "execution_count": 10,
     "metadata": {},
     "output_type": "execute_result"
    }
   ],
   "source": [
    "sum(countvec)/10000"
   ]
  },
  {
   "cell_type": "code",
   "execution_count": 11,
   "id": "4689b7e8",
   "metadata": {},
   "outputs": [
    {
     "name": "stdout",
     "output_type": "stream",
     "text": [
      "6\n",
      "0 0\n",
      "1 0\n",
      "2 5807\n",
      "3 3286\n",
      "4 801\n",
      "5 101\n",
      "6 5\n"
     ]
    }
   ],
   "source": [
    "max_counter = max(countvec)\n",
    "print (max_counter)\n",
    "\n",
    "for i in range (max_counter+1) :\n",
    "    count = countvec.count(i)\n",
    "    print (i, count)"
   ]
  },
  {
   "cell_type": "markdown",
   "id": "b79d734b",
   "metadata": {},
   "source": [
    "#### Normal distribution"
   ]
  },
  {
   "cell_type": "code",
   "execution_count": 12,
   "id": "08b4fd72",
   "metadata": {},
   "outputs": [],
   "source": [
    "s = 0 #set sum = 0\n",
    "count = 0 #set count = 0\n",
    "countvec = [] #create a list to store values of counts\n",
    "\n",
    "for i in range(10):# for every iteration set initial values\n",
    "    #x = np.random.normal(0.5,0.1)\n",
    "    s = 0\n",
    "    count = 0\n",
    "    while s < 5:# keep iterating till sum < 1, stop as soon we cross 1 (sum >= 1)\n",
    "        x = np.random.normal(0.5,0.1)\n",
    "        s += x\n",
    "        count += 1\n",
    "        #x = np.random.normal(0.5,0.1)\n",
    "    countvec.append(count) "
   ]
  },
  {
   "cell_type": "code",
   "execution_count": 13,
   "id": "46268269",
   "metadata": {
    "scrolled": true
   },
   "outputs": [
    {
     "data": {
      "text/plain": [
       "[9, 10, 11, 10, 11, 11, 10, 10, 11, 11]"
      ]
     },
     "execution_count": 13,
     "metadata": {},
     "output_type": "execute_result"
    }
   ],
   "source": [
    "countvec # run time is higher, max iterations also very high, due to nature of distribution(spread of values)"
   ]
  },
  {
   "cell_type": "code",
   "execution_count": 14,
   "id": "7cad3162",
   "metadata": {},
   "outputs": [
    {
     "data": {
      "text/plain": [
       "11"
      ]
     },
     "execution_count": 14,
     "metadata": {},
     "output_type": "execute_result"
    }
   ],
   "source": [
    "max(countvec)"
   ]
  },
  {
   "cell_type": "code",
   "execution_count": 15,
   "id": "156cc5bb",
   "metadata": {},
   "outputs": [
    {
     "data": {
      "text/plain": [
       "10.4"
      ]
     },
     "execution_count": 15,
     "metadata": {},
     "output_type": "execute_result"
    }
   ],
   "source": [
    "st.mean(countvec) "
   ]
  },
  {
   "cell_type": "code",
   "execution_count": 16,
   "id": "a9021869",
   "metadata": {},
   "outputs": [
    {
     "name": "stdout",
     "output_type": "stream",
     "text": [
      "11\n",
      "0 0\n",
      "1 0\n",
      "2 0\n",
      "3 0\n",
      "4 0\n",
      "5 0\n",
      "6 0\n",
      "7 0\n",
      "8 0\n",
      "9 1\n",
      "10 4\n",
      "11 5\n"
     ]
    }
   ],
   "source": [
    "max_counter = max(countvec)\n",
    "print (max_counter)\n",
    "df = pd.DataFrame(columns = ['values','count'])\n",
    "for i in range (max_counter+1) :\n",
    "    count = countvec.count(i)\n",
    "    print (i, count)"
   ]
  },
  {
   "cell_type": "markdown",
   "id": "921f5917",
   "metadata": {},
   "source": [
    "#### Combined code for Uniform/Normal distributions with parameters of choice"
   ]
  },
  {
   "cell_type": "code",
   "execution_count": 17,
   "id": "1e4a309a",
   "metadata": {},
   "outputs": [
    {
     "name": "stdout",
     "output_type": "stream",
     "text": [
      "Choose Distribution: 1 - Normal, 2 - Uniform : 2\n",
      "Enter numeric for parameter 1: 0\n",
      "Enter numeric for parameter 2: 1\n",
      "Enter number of iterations: 1000\n",
      "Enter threshold value: 1\n",
      " \n",
      "Chosen distribution - uniform ( 0.0 , 1.0 )\n",
      "maximum number of variables to be added:  8\n",
      "mean number of variables to be added:  2.756\n",
      "percentage of number of variables to be added in  1000  iterations\n",
      "0 0.0\n",
      "1 0.0\n",
      "2 47.4\n",
      "3 35.199999999999996\n",
      "4 13.4\n",
      "5 2.8000000000000003\n",
      "6 0.8999999999999999\n",
      "7 0.2\n",
      "8 0.1\n"
     ]
    }
   ],
   "source": [
    "# choice of distribution\n",
    "while True:\n",
    "    dist = int(input('Choose Distribution: 1 - Normal, 2 - Uniform : ' ))\n",
    "    if dist not in (1,2):\n",
    "        print(\" Please pick a number from the given list displayed\")\n",
    "    else:\n",
    "        break\n",
    "\n",
    "# number of parameters to input for corresponding distribution\n",
    "param = dict({1:2, 2:2})\n",
    "distribution = dict({1:'normal', 2:'uniform'})\n",
    "\n",
    "# choose the values of parameter\n",
    "paramlist = list()\n",
    "for i in range(param[dist]):\n",
    "    a = float(input('Enter numeric for parameter '+ str(i + 1) + ': '))\n",
    "    paramlist.append(a)\n",
    "    \n",
    "# choose the number of iterations\n",
    "iterations = int(input('Enter number of iterations: '))\n",
    "\n",
    "# choose threshold\n",
    "thresh = int(input('Enter threshold value: '))\n",
    "\n",
    "# execute code for \n",
    "s = 0 #set sum = 0\n",
    "count = 0 #set count = 0\n",
    "countvec = [] #create a list to store values of counts\n",
    "\n",
    "for i in range(iterations):# for every iteration set initial values for x,s,count\n",
    "    x = eval(str('np.random.'+distribution[dist]))(paramlist[0],paramlist[1])\n",
    "    s = 0\n",
    "    count = 0\n",
    "    while s < thresh:# keep iterating till sum just about to cross 1, stop after we cross 1 (sum <= 1)\n",
    "        s += x\n",
    "        count += 1\n",
    "        x = eval(str('np.random.'+ distribution[dist]))(paramlist[0],paramlist[1])\n",
    "    countvec.append(count) \n",
    "    \n",
    "# display results\n",
    "print(' ')\n",
    "print('Chosen distribution -',distribution[dist],'(',paramlist[0],',',paramlist[1],')')\n",
    "max_counter = max(countvec)\n",
    "print('maximum number of variables to be added: ', max_counter)\n",
    "print('mean number of variables to be added: ', st.mean(countvec))\n",
    "print('percentage of number of variables to be added in ', iterations, ' iterations')\n",
    "for i in range (max_counter+1) :\n",
    "    count = countvec.count(i)\n",
    "    print (i, count/iterations*100)"
   ]
  },
  {
   "cell_type": "markdown",
   "id": "66261f51",
   "metadata": {},
   "source": [
    "### Inspection Paradox"
   ]
  },
  {
   "cell_type": "code",
   "execution_count": 18,
   "id": "a9f1b03b",
   "metadata": {},
   "outputs": [
    {
     "name": "stdout",
     "output_type": "stream",
     "text": [
      "[0.8158673031764094, 1.274415808569707, 1.4450449182630223, 1.9857203790356253, 2.2669015836986732, 3.066934987982298, 3.168324622350043, 3.431928460595154, 3.6035088300745417, 4.0850033400799965]\n"
     ]
    }
   ],
   "source": [
    "t_list = list()\n",
    "x = np.random.uniform(0.0,1.0,10) #inter arrival time of buses, can change distribution to exponential for poisson process\n",
    "\n",
    "y=0\n",
    "for i in x:\n",
    "    y = y + i\n",
    "    t_list.append(y)\n",
    "    \n",
    "print(t_list) # arrival time of buses (Tn)"
   ]
  },
  {
   "cell_type": "code",
   "execution_count": 19,
   "id": "7889a687",
   "metadata": {
    "scrolled": true
   },
   "outputs": [
    {
     "data": {
      "text/plain": [
       "array([3.20288923, 0.27806927, 2.43618503, 1.65185447, 0.90773244,\n",
       "       0.95537684, 0.84394292, 3.26678445, 0.35006724, 0.0719579 ,\n",
       "       3.82105312, 3.24692711, 1.4898187 , 3.95054238, 2.65513788,\n",
       "       0.39669933, 0.86635601, 2.07470012, 3.06261758, 0.37551443,\n",
       "       2.39414301, 0.7885379 , 1.04985164, 1.47615017, 3.97131961,\n",
       "       3.09463964, 3.21962492, 2.00818605, 3.61801559, 3.32971466,\n",
       "       2.32144335, 0.48324059, 4.0719295 , 1.75740201, 3.29266145,\n",
       "       3.45595705, 3.65557174, 1.03971898, 1.55502097, 0.93956613,\n",
       "       0.8614222 , 0.34224576, 2.90715843, 2.9394659 , 3.35434726,\n",
       "       2.17118821, 0.94595599, 0.76312019, 2.88285369, 2.13686693,\n",
       "       2.48499072, 4.01688044, 3.58671792, 1.28672205, 3.57158548,\n",
       "       2.56538557, 1.87535027, 0.07643784, 3.33259896, 1.82055141,\n",
       "       4.06447342, 3.35456959, 3.97443225, 0.18657906, 2.81224415,\n",
       "       2.23857289, 4.07156301, 2.01232586, 0.05513792, 3.7682209 ,\n",
       "       0.04537554, 0.70311113, 3.47015809, 0.96973879, 1.41822953,\n",
       "       4.04008144, 3.94586035, 0.1899804 , 3.56901524, 1.32448991,\n",
       "       0.46952014, 4.0696906 , 1.32834391, 1.33490318, 0.4233474 ,\n",
       "       3.01191698, 1.79034985, 3.91427733, 1.25944049, 0.33807561,\n",
       "       0.2906869 , 0.97484466, 3.39929711, 3.14870286, 3.19013077,\n",
       "       2.97202896, 2.21710363, 0.11734769, 3.62193262, 1.43926695])"
      ]
     },
     "execution_count": 19,
     "metadata": {},
     "output_type": "execute_result"
    }
   ],
   "source": [
    "# passenger arrival time\n",
    "p_arrivals = np.random.uniform(0, max(t_list),100)\n",
    "p_arrivals"
   ]
  },
  {
   "cell_type": "code",
   "execution_count": 20,
   "id": "0163632d",
   "metadata": {},
   "outputs": [],
   "source": [
    "index = np.searchsorted(t_list, p_arrivals, side='right') # mapping index for passenger arrival"
   ]
  },
  {
   "cell_type": "code",
   "execution_count": 21,
   "id": "d8d081b7",
   "metadata": {},
   "outputs": [
    {
     "data": {
      "text/plain": [
       "array([7, 0, 5, 3, 1, 1, 1, 7, 0, 0, 9, 7, 3, 9, 5, 0, 1, 4, 5, 0, 5, 0,\n",
       "       1, 3, 9, 6, 7, 4, 9, 7, 5, 0, 9, 3, 7, 8, 9, 1, 3, 1, 1, 0, 5, 5,\n",
       "       7, 4, 1, 0, 5, 4, 5, 9, 8, 2, 8, 5, 3, 0, 7, 3, 9, 7, 9, 0, 5, 4,\n",
       "       9, 4, 0, 9, 0, 0, 8, 1, 2, 9, 9, 0, 8, 2, 0, 9, 2, 2, 0, 5, 3, 9,\n",
       "       1, 0, 0, 1, 7, 6, 7, 5, 4, 0, 9, 2], dtype=int64)"
      ]
     },
     "execution_count": 21,
     "metadata": {},
     "output_type": "execute_result"
    }
   ],
   "source": [
    "index"
   ]
  },
  {
   "cell_type": "code",
   "execution_count": 22,
   "id": "1125d465",
   "metadata": {},
   "outputs": [
    {
     "data": {
      "text/plain": [
       "array([0.8158673 , 0.45854851, 0.17062911, 0.54067546, 0.2811812 ,\n",
       "       0.8000334 , 0.10138963, 0.26360384, 0.17158037, 0.48149451])"
      ]
     },
     "execution_count": 22,
     "metadata": {},
     "output_type": "execute_result"
    }
   ],
   "source": [
    "x"
   ]
  },
  {
   "cell_type": "code",
   "execution_count": 23,
   "id": "0cbce1a8",
   "metadata": {},
   "outputs": [],
   "source": [
    "int_arrivals_p = list()\n",
    "for i in range(len(p_arrivals)):\n",
    "    int_arrivals_p.append(x[index[i]])"
   ]
  },
  {
   "cell_type": "code",
   "execution_count": 24,
   "id": "6ee0439e",
   "metadata": {
    "scrolled": true
   },
   "outputs": [
    {
     "data": {
      "text/plain": [
       "[0.263603838245111,\n",
       " 0.8158673031764094,\n",
       " 0.8000334042836247,\n",
       " 0.5406754607726031,\n",
       " 0.4585485053932975,\n",
       " 0.4585485053932975,\n",
       " 0.4585485053932975,\n",
       " 0.263603838245111,\n",
       " 0.8158673031764094,\n",
       " 0.8158673031764094]"
      ]
     },
     "execution_count": 24,
     "metadata": {},
     "output_type": "execute_result"
    }
   ],
   "source": [
    "int_arrivals_p[0:10]"
   ]
  },
  {
   "cell_type": "code",
   "execution_count": 25,
   "id": "b43e5617",
   "metadata": {},
   "outputs": [
    {
     "data": {
      "text/plain": [
       "0.5120204465783288"
      ]
     },
     "execution_count": 25,
     "metadata": {},
     "output_type": "execute_result"
    }
   ],
   "source": [
    "sum(int_arrivals_p)/len(int_arrivals_p) # Average inter arrival time from passenger point of view"
   ]
  },
  {
   "cell_type": "code",
   "execution_count": 26,
   "id": "49a3470c",
   "metadata": {},
   "outputs": [
    {
     "data": {
      "text/plain": [
       "0.4085003340079997"
      ]
     },
     "execution_count": 26,
     "metadata": {},
     "output_type": "execute_result"
    }
   ],
   "source": [
    "x.mean() # Average inter arrival time of buses"
   ]
  },
  {
   "cell_type": "code",
   "execution_count": 27,
   "id": "9cf9b898",
   "metadata": {},
   "outputs": [
    {
     "data": {
      "image/png": "[encoded data removed]",
      "text/plain": [
       "<Figure size 432x288 with 1 Axes>"
      ]
     },
     "metadata": {
      "needs_background": "light"
     },
     "output_type": "display_data"
    }
   ],
   "source": [
    "plt.step(t_list,[i for i in range(1,11)], 'g', where='pre') # t_list bus arrival time, i - ith renewal\n",
    "plt.show()"
   ]
  },
  {
   "cell_type": "markdown",
   "id": "a7df046f",
   "metadata": {},
   "source": [
    "### Simulate Renewal Process"
   ]
  },
  {
   "cell_type": "markdown",
   "id": "af3ebcef",
   "metadata": {},
   "source": [
    "#### Renewal for Poisson process"
   ]
  },
  {
   "cell_type": "code",
   "execution_count": 28,
   "id": "7b9bdebe",
   "metadata": {},
   "outputs": [],
   "source": [
    "# single simulation\n",
    "T=30 #time that system is observed\n",
    "t=0 # arrival time\n",
    "n=0 # number of renewal\n",
    "list1=[] # list of interarrival time\n",
    "arrivals=[] # list of arrival times\n",
    "while t<T:\n",
    "    x=np.random.exponential(5)# on an average interarrival time is approx 5 minutes\n",
    "    t=t+x\n",
    "    n=n+1\n",
    "    list1.append(x) # inter arrival times\n",
    "    arrivals.append(t) # arrival times\n",
    "    "
   ]
  },
  {
   "cell_type": "code",
   "execution_count": 29,
   "id": "6b0dd962",
   "metadata": {},
   "outputs": [
    {
     "data": {
      "text/plain": [
       "6"
      ]
     },
     "execution_count": 29,
     "metadata": {},
     "output_type": "execute_result"
    }
   ],
   "source": [
    "n"
   ]
  },
  {
   "cell_type": "code",
   "execution_count": 30,
   "id": "005a59f7",
   "metadata": {},
   "outputs": [
    {
     "data": {
      "text/plain": [
       "[22.262684554227278,\n",
       " 23.372439916691725,\n",
       " 25.025834045015507,\n",
       " 25.42063636481306,\n",
       " 27.92288960033529,\n",
       " 40.192154919555676]"
      ]
     },
     "execution_count": 30,
     "metadata": {},
     "output_type": "execute_result"
    }
   ],
   "source": [
    "arrivals"
   ]
  },
  {
   "cell_type": "code",
   "execution_count": 31,
   "id": "1200d17d",
   "metadata": {},
   "outputs": [],
   "source": [
    "# 1000 simulations\n",
    "T=100 #time 30\n",
    "Nt=[]\n",
    "for i in range (0,1000):\n",
    "    t=0\n",
    "    n=0\n",
    "    while t<T :\n",
    "        x=np.random.exponential(5) #inter arrival\n",
    "        t=t+x # arrival\n",
    "        n=n+1 # number of renewals\n",
    "    Nt.append(n) # total renewals in time T for 1000 iterations"
   ]
  },
  {
   "cell_type": "code",
   "execution_count": 32,
   "id": "367f0fe5",
   "metadata": {},
   "outputs": [
    {
     "data": {
      "text/plain": [
       "1000"
      ]
     },
     "execution_count": 32,
     "metadata": {},
     "output_type": "execute_result"
    }
   ],
   "source": [
    "len(Nt)"
   ]
  },
  {
   "cell_type": "code",
   "execution_count": 33,
   "id": "af8d0825",
   "metadata": {},
   "outputs": [
    {
     "data": {
      "text/plain": [
       "0.20958"
      ]
     },
     "execution_count": 33,
     "metadata": {},
     "output_type": "execute_result"
    }
   ],
   "source": [
    "# limiting behavior of poisson process\n",
    "sum(Nt)/(T*1000) # this value should approx 1/5 where 5 is the mean inter arrival time"
   ]
  },
  {
   "cell_type": "code",
   "execution_count": 34,
   "id": "ec3d03ff",
   "metadata": {},
   "outputs": [
    {
     "data": {
      "text/plain": [
       "20.958"
      ]
     },
     "execution_count": 34,
     "metadata": {},
     "output_type": "execute_result"
    }
   ],
   "source": [
    "sum(Nt)/len(Nt) # average no. of renewals should be similar to n (theoretical/ analytical solution)"
   ]
  },
  {
   "cell_type": "markdown",
   "id": "caecc265",
   "metadata": {},
   "source": [
    "#### Visualization of Renewal process"
   ]
  },
  {
   "cell_type": "code",
   "execution_count": 35,
   "id": "9b268f15",
   "metadata": {},
   "outputs": [
    {
     "data": {
      "image/png": "[encoded data removed]",
      "text/plain": [
       "<Figure size 432x288 with 1 Axes>"
      ]
     },
     "metadata": {
      "needs_background": "light"
     },
     "output_type": "display_data"
    }
   ],
   "source": [
    "plt.step(arrivals,[x for x in range(0,len(arrivals))])\n",
    "plt.show()"
   ]
  },
  {
   "cell_type": "code",
   "execution_count": 36,
   "id": "0283b33b",
   "metadata": {
    "scrolled": true
   },
   "outputs": [
    {
     "data": {
      "text/plain": [
       "[22.262684554227278,\n",
       " 23.372439916691725,\n",
       " 25.025834045015507,\n",
       " 25.42063636481306,\n",
       " 27.92288960033529,\n",
       " 40.192154919555676]"
      ]
     },
     "execution_count": 36,
     "metadata": {},
     "output_type": "execute_result"
    }
   ],
   "source": [
    "arrivals"
   ]
  },
  {
   "cell_type": "markdown",
   "id": "c0c55614",
   "metadata": {},
   "source": [
    "#### Uniform/Normal distn of inter arrival"
   ]
  },
  {
   "cell_type": "code",
   "execution_count": 37,
   "id": "855b2b74",
   "metadata": {},
   "outputs": [],
   "source": [
    "# single simulation -  theoretical\n",
    "T=30 #time that system is observed\n",
    "t=0 # arrival time\n",
    "n=0 # number of renewal\n",
    "list1=[] # list of interarrival time\n",
    "arrivals=[] # list of arrival times\n",
    "while t<T:\n",
    "    x=np.random.uniform(0.5,1) # distribution of interarrival time can try normal\n",
    "    t=t+x\n",
    "    n=n+1\n",
    "    list1.append(x) # inter arrival times\n",
    "    arrivals.append(t) # arrival times\n",
    "    "
   ]
  },
  {
   "cell_type": "code",
   "execution_count": 38,
   "id": "bde9100f",
   "metadata": {},
   "outputs": [
    {
     "data": {
      "text/plain": [
       "41"
      ]
     },
     "execution_count": 38,
     "metadata": {},
     "output_type": "execute_result"
    }
   ],
   "source": [
    "n"
   ]
  },
  {
   "cell_type": "code",
   "execution_count": 39,
   "id": "0995ddb6",
   "metadata": {},
   "outputs": [],
   "source": [
    "# 1000 simulations\n",
    "T=30 #time 30\n",
    "Nt=[]\n",
    "for i in range (0,1000):\n",
    "    t=0\n",
    "    n=0\n",
    "    while t<T :\n",
    "        x=np.random.uniform(0.5,1) #inter arrival distribution\n",
    "        t=t+x # arrival\n",
    "        n=n+1 # number of renewals\n",
    "    Nt.append(n) # total renewals in time T for 100 iterations"
   ]
  },
  {
   "cell_type": "code",
   "execution_count": 40,
   "id": "498b9268",
   "metadata": {},
   "outputs": [
    {
     "data": {
      "text/plain": [
       "1.3523333333333334"
      ]
     },
     "execution_count": 40,
     "metadata": {},
     "output_type": "execute_result"
    }
   ],
   "source": [
    "# limiting behaviour of Renewal process\n",
    "sum(Nt)/(T*1000) # should approximate 1/mean of distribution ~ 1/0.75"
   ]
  },
  {
   "cell_type": "code",
   "execution_count": 41,
   "id": "9c70d7f3",
   "metadata": {},
   "outputs": [
    {
     "data": {
      "text/plain": [
       "1.3333333333333333"
      ]
     },
     "execution_count": 41,
     "metadata": {},
     "output_type": "execute_result"
    }
   ],
   "source": [
    "1/.75"
   ]
  },
  {
   "cell_type": "code",
   "execution_count": 42,
   "id": "8d776a63",
   "metadata": {},
   "outputs": [
    {
     "data": {
      "text/plain": [
       "40.57"
      ]
     },
     "execution_count": 42,
     "metadata": {},
     "output_type": "execute_result"
    }
   ],
   "source": [
    "sum(Nt)/len(Nt) # should approximate value of n (analytical no. of renewals)"
   ]
  },
  {
   "cell_type": "markdown",
   "id": "27bf37eb",
   "metadata": {},
   "source": [
    "#### Visualization of Renewal process"
   ]
  },
  {
   "cell_type": "code",
   "execution_count": 43,
   "id": "9f8a6d15",
   "metadata": {},
   "outputs": [
    {
     "data": {
      "image/png": "[encoded data removed]",
      "text/plain": [
       "<Figure size 432x288 with 1 Axes>"
      ]
     },
     "metadata": {
      "needs_background": "light"
     },
     "output_type": "display_data"
    }
   ],
   "source": [
    "plt.step(arrivals,[x for x in range(0,len(arrivals))])\n",
    "plt.show()"
   ]
  },
  {
   "cell_type": "code",
   "execution_count": null,
   "id": "dc13f6aa",
   "metadata": {},
   "outputs": [],
   "source": []
  }
 ],
 "metadata": {
  "kernelspec": {
   "display_name": "Python 3",
   "language": "python",
   "name": "python3"
  },
  "language_info": {
   "codemirror_mode": {
    "name": "ipython",
    "version": 3
   },
   "file_extension": ".py",
   "mimetype": "text/x-python",
   "name": "python",
   "nbconvert_exporter": "python",
   "pygments_lexer": "ipython3",
   "version": "3.8.8"
  }
 },
 "nbformat": 4,
 "nbformat_minor": 5
}
