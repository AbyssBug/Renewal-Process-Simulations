{
 "cells": [
  {
   "cell_type": "markdown",
   "id": "38ec0e92",
   "metadata": {},
   "source": [
    "## Renewal Process - Python \n",
    "       a. simulate sum of random variables of the different distributions to cross given number \n",
    "       b. simulate inspection paradox for discrete, Poisson and other continuous distributions\n",
    "       c. Simulate renewal process given the distribution with parameters e.g. Uniform and the Normal.  Find theoretical values for such runs and also simulate and show values\n",
    "       d. Visualize renewal process"
   ]
  },
  {
   "cell_type": "code",
   "execution_count": 69,
   "id": "60ebb5ea",
   "metadata": {},
   "outputs": [],
   "source": [
    "import pandas as pd\n",
    "import numpy as np\n",
    "import random"
   ]
  },
  {
   "cell_type": "code",
   "execution_count": 70,
   "id": "04f434db",
   "metadata": {},
   "outputs": [],
   "source": [
    "import statistics as st"
   ]
  },
  {
   "cell_type": "code",
   "execution_count": 71,
   "id": "df799c65",
   "metadata": {},
   "outputs": [],
   "source": [
    "import matplotlib.pyplot as plt"
   ]
  },
  {
   "cell_type": "markdown",
   "id": "4e31aede",
   "metadata": {},
   "source": [
    "### 1. Simulate sum of random variables of different distributions to cross given number \n",
    "\n",
    "#### Uniform Distribution\n"
   ]
  },
  {
   "cell_type": "code",
   "execution_count": 98,
   "id": "80f94f7e",
   "metadata": {},
   "outputs": [],
   "source": [
    "s = 0 #set sum = 0\n",
    "count = 0 #set count = 0\n",
    "countvec = [] #create a list to store counts of how many variables to be added\n",
    "\n",
    "for i in range(10000):# for every iteration set initial values\n",
    "    x = random.uniform(0,1)\n",
    "    s = 0\n",
    "    count = 0\n",
    "    while s < 5:# keep iterating till sum >= 1\n",
    "        s += x\n",
    "        count += 1\n",
    "        x = random.uniform(0,1)\n",
    "    countvec.append(count) \n"
   ]
  },
  {
   "cell_type": "code",
   "execution_count": 99,
   "id": "f77b77a7",
   "metadata": {},
   "outputs": [
    {
     "data": {
      "text/plain": [
       "5.135526199270035"
      ]
     },
     "execution_count": 99,
     "metadata": {},
     "output_type": "execute_result"
    }
   ],
   "source": [
    "s"
   ]
  },
  {
   "cell_type": "code",
   "execution_count": 100,
   "id": "57635417",
   "metadata": {},
   "outputs": [
    {
     "data": {
      "text/plain": [
       "10.6766"
      ]
     },
     "execution_count": 100,
     "metadata": {},
     "output_type": "execute_result"
    }
   ],
   "source": [
    "# in the long run, the number of uniform random variates\n",
    "# needed to get a sum >= 1 \n",
    "sum(countvec)/10000\n",
    "# value approximates to e"
   ]
  },
  {
   "cell_type": "code",
   "execution_count": 101,
   "id": "63dbd020",
   "metadata": {},
   "outputs": [
    {
     "data": {
      "text/plain": [
       "[12,\n",
       " 10,\n",
       " 13,\n",
       " 13,\n",
       " 9,\n",
       " 12,\n",
       " 8,\n",
       " 14,\n",
       " 8,\n",
       " 9,\n",
       " 12,\n",
       " 11,\n",
       " 10,\n",
       " 16,\n",
       " 9,\n",
       " 10,\n",
       " 13,\n",
       " 10,\n",
       " 10,\n",
       " 8,\n",
       " 10,\n",
       " 13,\n",
       " 12,\n",
       " 12,\n",
       " 11,\n",
       " 8,\n",
       " 13,\n",
       " 10,\n",
       " 8,\n",
       " 10,\n",
       " 14,\n",
       " 12,\n",
       " 11,\n",
       " 10,\n",
       " 12,\n",
       " 10,\n",
       " 8,\n",
       " 12,\n",
       " 10,\n",
       " 9,\n",
       " 9,\n",
       " 10,\n",
       " 10,\n",
       " 8,\n",
       " 10,\n",
       " 12,\n",
       " 12,\n",
       " 15,\n",
       " 11,\n",
       " 9,\n",
       " 10,\n",
       " 10,\n",
       " 11,\n",
       " 10,\n",
       " 7,\n",
       " 10,\n",
       " 11,\n",
       " 8,\n",
       " 9,\n",
       " 10,\n",
       " 12,\n",
       " 11,\n",
       " 9,\n",
       " 11,\n",
       " 10,\n",
       " 10,\n",
       " 9,\n",
       " 14,\n",
       " 8,\n",
       " 12,\n",
       " 10,\n",
       " 10,\n",
       " 11,\n",
       " 9,\n",
       " 12,\n",
       " 12,\n",
       " 10,\n",
       " 12,\n",
       " 10,\n",
       " 12,\n",
       " 14,\n",
       " 10,\n",
       " 8,\n",
       " 15,\n",
       " 14,\n",
       " 12,\n",
       " 11,\n",
       " 12,\n",
       " 13,\n",
       " 12,\n",
       " 8,\n",
       " 10,\n",
       " 10,\n",
       " 10,\n",
       " 9,\n",
       " 11,\n",
       " 10,\n",
       " 12,\n",
       " 10,\n",
       " 14,\n",
       " 13,\n",
       " 13,\n",
       " 10,\n",
       " 9,\n",
       " 11,\n",
       " 9,\n",
       " 10,\n",
       " 11,\n",
       " 12,\n",
       " 10,\n",
       " 9,\n",
       " 11,\n",
       " 11,\n",
       " 10,\n",
       " 11,\n",
       " 12,\n",
       " 8,\n",
       " 10,\n",
       " 9,\n",
       " 10,\n",
       " 10,\n",
       " 11,\n",
       " 13,\n",
       " 9,\n",
       " 14,\n",
       " 9,\n",
       " 12,\n",
       " 14,\n",
       " 11,\n",
       " 12,\n",
       " 13,\n",
       " 10,\n",
       " 8,\n",
       " 13,\n",
       " 11,\n",
       " 9,\n",
       " 10,\n",
       " 12,\n",
       " 8,\n",
       " 9,\n",
       " 11,\n",
       " 12,\n",
       " 9,\n",
       " 13,\n",
       " 10,\n",
       " 11,\n",
       " 8,\n",
       " 8,\n",
       " 9,\n",
       " 14,\n",
       " 11,\n",
       " 8,\n",
       " 10,\n",
       " 8,\n",
       " 13,\n",
       " 14,\n",
       " 9,\n",
       " 12,\n",
       " 12,\n",
       " 8,\n",
       " 10,\n",
       " 10,\n",
       " 7,\n",
       " 10,\n",
       " 14,\n",
       " 13,\n",
       " 10,\n",
       " 11,\n",
       " 11,\n",
       " 9,\n",
       " 10,\n",
       " 11,\n",
       " 9,\n",
       " 10,\n",
       " 11,\n",
       " 14,\n",
       " 13,\n",
       " 10,\n",
       " 12,\n",
       " 10,\n",
       " 10,\n",
       " 11,\n",
       " 9,\n",
       " 9,\n",
       " 11,\n",
       " 10,\n",
       " 13,\n",
       " 12,\n",
       " 11,\n",
       " 14,\n",
       " 9,\n",
       " 9,\n",
       " 11,\n",
       " 11,\n",
       " 11,\n",
       " 14,\n",
       " 14,\n",
       " 8,\n",
       " 10,\n",
       " 10,\n",
       " 8,\n",
       " 9,\n",
       " 9,\n",
       " 12,\n",
       " 9,\n",
       " 13,\n",
       " 9,\n",
       " 11,\n",
       " 9,\n",
       " 9,\n",
       " 10,\n",
       " 9,\n",
       " 11,\n",
       " 12,\n",
       " 12,\n",
       " 12,\n",
       " 11,\n",
       " 10,\n",
       " 11,\n",
       " 10,\n",
       " 13,\n",
       " 12,\n",
       " 9,\n",
       " 11,\n",
       " 9,\n",
       " 11,\n",
       " 11,\n",
       " 12,\n",
       " 9,\n",
       " 11,\n",
       " 9,\n",
       " 10,\n",
       " 11,\n",
       " 9,\n",
       " 10,\n",
       " 10,\n",
       " 8,\n",
       " 11,\n",
       " 9,\n",
       " 13,\n",
       " 11,\n",
       " 13,\n",
       " 8,\n",
       " 10,\n",
       " 9,\n",
       " 8,\n",
       " 9,\n",
       " 14,\n",
       " 16,\n",
       " 8,\n",
       " 13,\n",
       " 11,\n",
       " 11,\n",
       " 10,\n",
       " 9,\n",
       " 12,\n",
       " 11,\n",
       " 9,\n",
       " 11,\n",
       " 9,\n",
       " 8,\n",
       " 10,\n",
       " 11,\n",
       " 11,\n",
       " 13,\n",
       " 12,\n",
       " 11,\n",
       " 9,\n",
       " 12,\n",
       " 10,\n",
       " 14,\n",
       " 9,\n",
       " 12,\n",
       " 13,\n",
       " 14,\n",
       " 9,\n",
       " 11,\n",
       " 10,\n",
       " 13,\n",
       " 9,\n",
       " 9,\n",
       " 12,\n",
       " 10,\n",
       " 10,\n",
       " 12,\n",
       " 10,\n",
       " 12,\n",
       " 9,\n",
       " 12,\n",
       " 11,\n",
       " 10,\n",
       " 9,\n",
       " 8,\n",
       " 13,\n",
       " 8,\n",
       " 12,\n",
       " 11,\n",
       " 9,\n",
       " 11,\n",
       " 12,\n",
       " 8,\n",
       " 9,\n",
       " 12,\n",
       " 16,\n",
       " 11,\n",
       " 13,\n",
       " 12,\n",
       " 10,\n",
       " 10,\n",
       " 11,\n",
       " 11,\n",
       " 9,\n",
       " 12,\n",
       " 11,\n",
       " 9,\n",
       " 11,\n",
       " 10,\n",
       " 9,\n",
       " 11,\n",
       " 14,\n",
       " 9,\n",
       " 12,\n",
       " 9,\n",
       " 12,\n",
       " 10,\n",
       " 14,\n",
       " 10,\n",
       " 10,\n",
       " 8,\n",
       " 9,\n",
       " 13,\n",
       " 9,\n",
       " 13,\n",
       " 13,\n",
       " 8,\n",
       " 12,\n",
       " 10,\n",
       " 10,\n",
       " 13,\n",
       " 7,\n",
       " 10,\n",
       " 11,\n",
       " 10,\n",
       " 12,\n",
       " 10,\n",
       " 11,\n",
       " 12,\n",
       " 11,\n",
       " 14,\n",
       " 11,\n",
       " 10,\n",
       " 10,\n",
       " 12,\n",
       " 8,\n",
       " 12,\n",
       " 12,\n",
       " 11,\n",
       " 9,\n",
       " 13,\n",
       " 15,\n",
       " 9,\n",
       " 9,\n",
       " 11,\n",
       " 8,\n",
       " 12,\n",
       " 15,\n",
       " 9,\n",
       " 12,\n",
       " 14,\n",
       " 11,\n",
       " 9,\n",
       " 11,\n",
       " 11,\n",
       " 9,\n",
       " 9,\n",
       " 15,\n",
       " 9,\n",
       " 14,\n",
       " 13,\n",
       " 13,\n",
       " 9,\n",
       " 10,\n",
       " 11,\n",
       " 14,\n",
       " 10,\n",
       " 8,\n",
       " 9,\n",
       " 9,\n",
       " 14,\n",
       " 11,\n",
       " 12,\n",
       " 11,\n",
       " 13,\n",
       " 12,\n",
       " 12,\n",
       " 10,\n",
       " 10,\n",
       " 11,\n",
       " 15,\n",
       " 10,\n",
       " 12,\n",
       " 11,\n",
       " 8,\n",
       " 13,\n",
       " 8,\n",
       " 12,\n",
       " 14,\n",
       " 12,\n",
       " 13,\n",
       " 8,\n",
       " 12,\n",
       " 11,\n",
       " 10,\n",
       " 12,\n",
       " 10,\n",
       " 11,\n",
       " 8,\n",
       " 10,\n",
       " 11,\n",
       " 10,\n",
       " 16,\n",
       " 7,\n",
       " 9,\n",
       " 10,\n",
       " 10,\n",
       " 10,\n",
       " 11,\n",
       " 10,\n",
       " 10,\n",
       " 9,\n",
       " 15,\n",
       " 11,\n",
       " 9,\n",
       " 14,\n",
       " 10,\n",
       " 12,\n",
       " 9,\n",
       " 10,\n",
       " 12,\n",
       " 12,\n",
       " 11,\n",
       " 11,\n",
       " 13,\n",
       " 9,\n",
       " 8,\n",
       " 10,\n",
       " 13,\n",
       " 10,\n",
       " 17,\n",
       " 10,\n",
       " 10,\n",
       " 11,\n",
       " 9,\n",
       " 9,\n",
       " 10,\n",
       " 14,\n",
       " 13,\n",
       " 11,\n",
       " 9,\n",
       " 11,\n",
       " 8,\n",
       " 10,\n",
       " 10,\n",
       " 10,\n",
       " 12,\n",
       " 11,\n",
       " 13,\n",
       " 15,\n",
       " 11,\n",
       " 10,\n",
       " 8,\n",
       " 12,\n",
       " 7,\n",
       " 9,\n",
       " 9,\n",
       " 12,\n",
       " 11,\n",
       " 8,\n",
       " 10,\n",
       " 12,\n",
       " 10,\n",
       " 10,\n",
       " 11,\n",
       " 8,\n",
       " 11,\n",
       " 11,\n",
       " 10,\n",
       " 11,\n",
       " 12,\n",
       " 7,\n",
       " 12,\n",
       " 8,\n",
       " 12,\n",
       " 11,\n",
       " 8,\n",
       " 10,\n",
       " 9,\n",
       " 11,\n",
       " 11,\n",
       " 8,\n",
       " 7,\n",
       " 11,\n",
       " 11,\n",
       " 10,\n",
       " 10,\n",
       " 8,\n",
       " 9,\n",
       " 14,\n",
       " 10,\n",
       " 9,\n",
       " 9,\n",
       " 11,\n",
       " 9,\n",
       " 14,\n",
       " 10,\n",
       " 10,\n",
       " 10,\n",
       " 11,\n",
       " 10,\n",
       " 10,\n",
       " 12,\n",
       " 8,\n",
       " 10,\n",
       " 13,\n",
       " 14,\n",
       " 10,\n",
       " 12,\n",
       " 9,\n",
       " 11,\n",
       " 10,\n",
       " 13,\n",
       " 9,\n",
       " 11,\n",
       " 11,\n",
       " 9,\n",
       " 11,\n",
       " 11,\n",
       " 8,\n",
       " 16,\n",
       " 13,\n",
       " 10,\n",
       " 11,\n",
       " 8,\n",
       " 11,\n",
       " 10,\n",
       " 11,\n",
       " 11,\n",
       " 12,\n",
       " 11,\n",
       " 11,\n",
       " 12,\n",
       " 12,\n",
       " 10,\n",
       " 8,\n",
       " 11,\n",
       " 8,\n",
       " 9,\n",
       " 12,\n",
       " 9,\n",
       " 12,\n",
       " 13,\n",
       " 8,\n",
       " 12,\n",
       " 9,\n",
       " 9,\n",
       " 9,\n",
       " 7,\n",
       " 11,\n",
       " 11,\n",
       " 13,\n",
       " 11,\n",
       " 11,\n",
       " 13,\n",
       " 12,\n",
       " 12,\n",
       " 12,\n",
       " 9,\n",
       " 10,\n",
       " 8,\n",
       " 13,\n",
       " 9,\n",
       " 11,\n",
       " 9,\n",
       " 11,\n",
       " 11,\n",
       " 12,\n",
       " 11,\n",
       " 9,\n",
       " 8,\n",
       " 14,\n",
       " 9,\n",
       " 9,\n",
       " 11,\n",
       " 8,\n",
       " 9,\n",
       " 11,\n",
       " 9,\n",
       " 10,\n",
       " 9,\n",
       " 13,\n",
       " 10,\n",
       " 9,\n",
       " 10,\n",
       " 11,\n",
       " 10,\n",
       " 11,\n",
       " 13,\n",
       " 9,\n",
       " 7,\n",
       " 9,\n",
       " 11,\n",
       " 10,\n",
       " 9,\n",
       " 11,\n",
       " 13,\n",
       " 12,\n",
       " 10,\n",
       " 11,\n",
       " 9,\n",
       " 14,\n",
       " 11,\n",
       " 12,\n",
       " 12,\n",
       " 8,\n",
       " 10,\n",
       " 17,\n",
       " 8,\n",
       " 10,\n",
       " 10,\n",
       " 8,\n",
       " 10,\n",
       " 11,\n",
       " 13,\n",
       " 12,\n",
       " 8,\n",
       " 14,\n",
       " 15,\n",
       " 13,\n",
       " 10,\n",
       " 10,\n",
       " 11,\n",
       " 9,\n",
       " 10,\n",
       " 13,\n",
       " 12,\n",
       " 10,\n",
       " 9,\n",
       " 12,\n",
       " 11,\n",
       " 10,\n",
       " 10,\n",
       " 10,\n",
       " 12,\n",
       " 11,\n",
       " 8,\n",
       " 11,\n",
       " 8,\n",
       " 12,\n",
       " 9,\n",
       " 15,\n",
       " 10,\n",
       " 11,\n",
       " 10,\n",
       " 8,\n",
       " 11,\n",
       " 8,\n",
       " 11,\n",
       " 10,\n",
       " 9,\n",
       " 8,\n",
       " 10,\n",
       " 11,\n",
       " 11,\n",
       " 11,\n",
       " 11,\n",
       " 10,\n",
       " 8,\n",
       " 13,\n",
       " 9,\n",
       " 11,\n",
       " 8,\n",
       " 11,\n",
       " 9,\n",
       " 9,\n",
       " 14,\n",
       " 13,\n",
       " 12,\n",
       " 11,\n",
       " 9,\n",
       " 12,\n",
       " 11,\n",
       " 9,\n",
       " 9,\n",
       " 10,\n",
       " 11,\n",
       " 8,\n",
       " 7,\n",
       " 10,\n",
       " 10,\n",
       " 10,\n",
       " 12,\n",
       " 9,\n",
       " 8,\n",
       " 11,\n",
       " 9,\n",
       " 10,\n",
       " 10,\n",
       " 9,\n",
       " 10,\n",
       " 11,\n",
       " 9,\n",
       " 11,\n",
       " 9,\n",
       " 7,\n",
       " 10,\n",
       " 10,\n",
       " 10,\n",
       " 11,\n",
       " 13,\n",
       " 12,\n",
       " 10,\n",
       " 9,\n",
       " 8,\n",
       " 9,\n",
       " 11,\n",
       " 10,\n",
       " 10,\n",
       " 11,\n",
       " 12,\n",
       " 9,\n",
       " 10,\n",
       " 11,\n",
       " 8,\n",
       " 11,\n",
       " 9,\n",
       " 18,\n",
       " 12,\n",
       " 11,\n",
       " 14,\n",
       " 10,\n",
       " 12,\n",
       " 11,\n",
       " 10,\n",
       " 9,\n",
       " 14,\n",
       " 10,\n",
       " 11,\n",
       " 8,\n",
       " 8,\n",
       " 13,\n",
       " 9,\n",
       " 11,\n",
       " 13,\n",
       " 10,\n",
       " 11,\n",
       " 10,\n",
       " 8,\n",
       " 11,\n",
       " 7,\n",
       " 13,\n",
       " 8,\n",
       " 11,\n",
       " 11,\n",
       " 11,\n",
       " 14,\n",
       " 11,\n",
       " 9,\n",
       " 14,\n",
       " 13,\n",
       " 10,\n",
       " 12,\n",
       " 9,\n",
       " 10,\n",
       " 12,\n",
       " 9,\n",
       " 11,\n",
       " 9,\n",
       " 14,\n",
       " 15,\n",
       " 9,\n",
       " 9,\n",
       " 13,\n",
       " 14,\n",
       " 9,\n",
       " 11,\n",
       " 8,\n",
       " 10,\n",
       " 13,\n",
       " 8,\n",
       " 14,\n",
       " 14,\n",
       " 9,\n",
       " 11,\n",
       " 10,\n",
       " 11,\n",
       " 11,\n",
       " 12,\n",
       " 11,\n",
       " 8,\n",
       " 9,\n",
       " 9,\n",
       " 11,\n",
       " 12,\n",
       " 7,\n",
       " 13,\n",
       " 11,\n",
       " 12,\n",
       " 10,\n",
       " 17,\n",
       " 9,\n",
       " 9,\n",
       " 10,\n",
       " 10,\n",
       " 11,\n",
       " 9,\n",
       " 11,\n",
       " 9,\n",
       " 10,\n",
       " 10,\n",
       " 9,\n",
       " 9,\n",
       " 7,\n",
       " 11,\n",
       " 9,\n",
       " 7,\n",
       " 8,\n",
       " 12,\n",
       " 12,\n",
       " 8,\n",
       " 11,\n",
       " 10,\n",
       " 10,\n",
       " 10,\n",
       " 10,\n",
       " 10,\n",
       " 12,\n",
       " 10,\n",
       " 7,\n",
       " 12,\n",
       " 9,\n",
       " 11,\n",
       " 11,\n",
       " 11,\n",
       " 10,\n",
       " 10,\n",
       " 10,\n",
       " 14,\n",
       " 8,\n",
       " 13,\n",
       " 9,\n",
       " 8,\n",
       " 10,\n",
       " 13,\n",
       " 10,\n",
       " 12,\n",
       " 12,\n",
       " 8,\n",
       " 10,\n",
       " 9,\n",
       " 9,\n",
       " 9,\n",
       " 11,\n",
       " 10,\n",
       " 10,\n",
       " 9,\n",
       " 10,\n",
       " 12,\n",
       " 10,\n",
       " 11,\n",
       " 10,\n",
       " 8,\n",
       " 9,\n",
       " 11,\n",
       " 10,\n",
       " 10,\n",
       " 13,\n",
       " 10,\n",
       " 10,\n",
       " 9,\n",
       " 8,\n",
       " 10,\n",
       " 14,\n",
       " 13,\n",
       " 9,\n",
       " 10,\n",
       " 10,\n",
       " 11,\n",
       " 10,\n",
       " 8,\n",
       " 11,\n",
       " 8,\n",
       " 11,\n",
       " 13,\n",
       " 11,\n",
       " 10,\n",
       " 10,\n",
       " 11,\n",
       " 9,\n",
       " 12,\n",
       " 13,\n",
       " 10,\n",
       " 7,\n",
       " 13,\n",
       " 9,\n",
       " 9,\n",
       " 12,\n",
       " 8,\n",
       " 11,\n",
       " 12,\n",
       " 13,\n",
       " 16,\n",
       " 11,\n",
       " 12,\n",
       " 10,\n",
       " 12,\n",
       " 13,\n",
       " 11,\n",
       " 12,\n",
       " 12,\n",
       " 10,\n",
       " 14,\n",
       " 11,\n",
       " 13,\n",
       " 9,\n",
       " 13,\n",
       " 12,\n",
       " 9,\n",
       " 14,\n",
       " 11,\n",
       " 11,\n",
       " 11,\n",
       " 11,\n",
       " 14,\n",
       " 11,\n",
       " 12,\n",
       " 11,\n",
       " 13,\n",
       " 11,\n",
       " 10,\n",
       " 10,\n",
       " 10,\n",
       " 10,\n",
       " 10,\n",
       " 11,\n",
       " 11,\n",
       " 9,\n",
       " 10,\n",
       " 11,\n",
       " 10,\n",
       " 9,\n",
       " 11,\n",
       " 11,\n",
       " 10,\n",
       " 14,\n",
       " 11,\n",
       " 10,\n",
       " 14,\n",
       " 11,\n",
       " 8,\n",
       " 11,\n",
       " 8,\n",
       " 11,\n",
       " 10,\n",
       " 11,\n",
       " 13,\n",
       " 11,\n",
       " 11,\n",
       " 11,\n",
       " 12,\n",
       " 7,\n",
       " 15,\n",
       " 9,\n",
       " 8,\n",
       " 12,\n",
       " 10,\n",
       " 11,\n",
       " 11,\n",
       " 9,\n",
       " 13,\n",
       " 9,\n",
       " 13,\n",
       " 16,\n",
       " 11,\n",
       " 10,\n",
       " 7,\n",
       " 9,\n",
       " 10,\n",
       " 11,\n",
       " 13,\n",
       " 8,\n",
       " 13,\n",
       " 10,\n",
       " 11,\n",
       " 10,\n",
       " 9,\n",
       " 12,\n",
       " 12,\n",
       " 12,\n",
       " 9,\n",
       " 11,\n",
       " ...]"
      ]
     },
     "execution_count": 101,
     "metadata": {},
     "output_type": "execute_result"
    }
   ],
   "source": [
    "countvec"
   ]
  },
  {
   "cell_type": "code",
   "execution_count": 82,
   "id": "7f4f727e",
   "metadata": {},
   "outputs": [
    {
     "name": "stdout",
     "output_type": "stream",
     "text": [
      "7\n",
      "0 0\n",
      "1 0\n",
      "2 5020\n",
      "3 3320\n",
      "4 1211\n",
      "5 367\n",
      "6 69\n",
      "7 13\n"
     ]
    }
   ],
   "source": [
    "#avg_counter = mean(countvec) \n",
    "#print (\"avergae of rv counter\",avg_counter)\n",
    "max_counter = max(countvec)\n",
    "print (max_counter)\n",
    "\n",
    "for i in range (max_counter+1) :\n",
    "    count = countvec.count(i)\n",
    "    print (i, count)"
   ]
  },
  {
   "cell_type": "markdown",
   "id": "f129e034",
   "metadata": {},
   "source": [
    "#### Rolling of a die"
   ]
  },
  {
   "cell_type": "code",
   "execution_count": 87,
   "id": "2826a3fe",
   "metadata": {},
   "outputs": [],
   "source": [
    "s = 0 #set sum = 0\n",
    "count = 0 #set count = 0\n",
    "countvec = [] #create a list to store values of counts\n",
    "die_roll = [1,2,3,4,5,6] # sample space for rolling a die\n",
    "for i in range(10000):# for every iteration set initial values\n",
    "    x = random.sample(die_roll,1)\n",
    "    s = 0\n",
    "    count = 0\n",
    "    while s < 7:# keep iterating till sum >= 1\n",
    "        s += x[0]\n",
    "        count += 1\n",
    "        x = random.sample(die_roll,1)\n",
    "    countvec.append(count) "
   ]
  },
  {
   "cell_type": "code",
   "execution_count": 88,
   "id": "f011f3a8",
   "metadata": {},
   "outputs": [
    {
     "data": {
      "text/plain": [
       "2"
      ]
     },
     "execution_count": 88,
     "metadata": {},
     "output_type": "execute_result"
    }
   ],
   "source": [
    "x[0]"
   ]
  },
  {
   "cell_type": "code",
   "execution_count": 89,
   "id": "e05998c7",
   "metadata": {},
   "outputs": [
    {
     "data": {
      "text/plain": [
       "2.5241"
      ]
     },
     "execution_count": 89,
     "metadata": {},
     "output_type": "execute_result"
    }
   ],
   "source": [
    "sum(countvec)/10000"
   ]
  },
  {
   "cell_type": "code",
   "execution_count": 90,
   "id": "4689b7e8",
   "metadata": {},
   "outputs": [
    {
     "name": "stdout",
     "output_type": "stream",
     "text": [
      "7\n",
      "0 0\n",
      "1 0\n",
      "2 5811\n",
      "3 3279\n",
      "4 780\n",
      "5 119\n",
      "6 10\n",
      "7 1\n"
     ]
    }
   ],
   "source": [
    "max_counter = max(countvec)\n",
    "print (max_counter)\n",
    "\n",
    "for i in range (max_counter+1) :\n",
    "    count = countvec.count(i)\n",
    "    print (i, count)"
   ]
  },
  {
   "cell_type": "markdown",
   "id": "b79d734b",
   "metadata": {},
   "source": [
    "#### Normal distribution"
   ]
  },
  {
   "cell_type": "code",
   "execution_count": 102,
   "id": "08b4fd72",
   "metadata": {},
   "outputs": [],
   "source": [
    "s = 0 #set sum = 0\n",
    "count = 0 #set count = 0\n",
    "countvec = [] #create a list to store values of counts\n",
    "\n",
    "for i in range(10):# for every iteration set initial values\n",
    "    #x = np.random.normal(0.5,0.1)\n",
    "    s = 0\n",
    "    count = 0\n",
    "    while s < 5:# keep iterating till sum < 1, stop as soon we cross 1 (sum >= 1)\n",
    "        x = np.random.normal(0.5,0.1)\n",
    "        s += x\n",
    "        count += 1\n",
    "        #x = np.random.normal(0.5,0.1)\n",
    "    countvec.append(count) "
   ]
  },
  {
   "cell_type": "code",
   "execution_count": 103,
   "id": "46268269",
   "metadata": {
    "scrolled": true
   },
   "outputs": [
    {
     "data": {
      "text/plain": [
       "[12, 10, 11, 10, 11, 12, 10, 10, 11, 11]"
      ]
     },
     "execution_count": 103,
     "metadata": {},
     "output_type": "execute_result"
    }
   ],
   "source": [
    "countvec # run time is higher, max iterations also very high, due to nature of distribution(spread of values)"
   ]
  },
  {
   "cell_type": "code",
   "execution_count": 104,
   "id": "7cad3162",
   "metadata": {},
   "outputs": [
    {
     "data": {
      "text/plain": [
       "12"
      ]
     },
     "execution_count": 104,
     "metadata": {},
     "output_type": "execute_result"
    }
   ],
   "source": [
    "max(countvec)"
   ]
  },
  {
   "cell_type": "code",
   "execution_count": 105,
   "id": "156cc5bb",
   "metadata": {},
   "outputs": [
    {
     "data": {
      "text/plain": [
       "10.8"
      ]
     },
     "execution_count": 105,
     "metadata": {},
     "output_type": "execute_result"
    }
   ],
   "source": [
    "st.mean(countvec) "
   ]
  },
  {
   "cell_type": "code",
   "execution_count": 106,
   "id": "a9021869",
   "metadata": {},
   "outputs": [
    {
     "name": "stdout",
     "output_type": "stream",
     "text": [
      "12\n",
      "0 0\n",
      "1 0\n",
      "2 0\n",
      "3 0\n",
      "4 0\n",
      "5 0\n",
      "6 0\n",
      "7 0\n",
      "8 0\n",
      "9 0\n",
      "10 4\n",
      "11 4\n",
      "12 2\n"
     ]
    }
   ],
   "source": [
    "max_counter = max(countvec)\n",
    "print (max_counter)\n",
    "df = pd.DataFrame(columns = ['values','count'])\n",
    "for i in range (max_counter+1) :\n",
    "    count = countvec.count(i)\n",
    "    print (i, count)"
   ]
  },
  {
   "cell_type": "markdown",
   "id": "921f5917",
   "metadata": {},
   "source": [
    "#### Combined code for Uniform/Normal distributions with parameters of choice"
   ]
  },
  {
   "cell_type": "code",
   "execution_count": 109,
   "id": "1e4a309a",
   "metadata": {},
   "outputs": [
    {
     "name": "stdout",
     "output_type": "stream",
     "text": [
      "Choose Distribution: 1 - Normal, 2 - Uniform : 2\n",
      "Enter numeric for parameter 1: 5\n",
      "Enter numeric for parameter 2: 10\n",
      "Enter number of iterations: 10000\n",
      "Enter threshold value: 8\n",
      " \n",
      "Chosen distribution - uniform ( 5 , 10 )\n",
      "maximum number of variables to be added:  2\n",
      "mean number of variables to be added:  1.5981\n",
      "percentage of number of variables to be added in  10000  iterations\n",
      "0 0.0\n",
      "1 40.19\n",
      "2 59.809999999999995\n"
     ]
    }
   ],
   "source": [
    "# choice of distribution\n",
    "while True:\n",
    "    dist = int(input('Choose Distribution: 1 - Normal, 2 - Uniform : ' ))\n",
    "    if dist not in (1,2):\n",
    "        print(\" Please pick a number from the given list displayed\")\n",
    "    else:\n",
    "        break\n",
    "\n",
    "# number of parameters to input for corresponding distribution\n",
    "param = dict({1:2, 2:2})\n",
    "distribution = dict({1:'normal', 2:'uniform'})\n",
    "\n",
    "# choose the values of parameter\n",
    "paramlist = list()\n",
    "for i in range(param[dist]):\n",
    "    a = int(input('Enter numeric for parameter '+ str(i + 1) + ': '))\n",
    "    paramlist.append(a)\n",
    "    \n",
    "# choose the number of iterations\n",
    "iterations = int(input('Enter number of iterations: '))\n",
    "\n",
    "# choose threshold\n",
    "thresh = int(input('Enter threshold value: '))\n",
    "\n",
    "# execute code for \n",
    "s = 0 #set sum = 0\n",
    "count = 0 #set count = 0\n",
    "countvec = [] #create a list to store values of counts\n",
    "\n",
    "for i in range(iterations):# for every iteration set initial values for x,s,count\n",
    "    x = eval(str('np.random.'+distribution[dist]))(paramlist[0],paramlist[1])\n",
    "    s = 0\n",
    "    count = 0\n",
    "    while s < thresh:# keep iterating till sum just about to cross 1, stop after we cross 1 (sum <= 1)\n",
    "        s += x\n",
    "        count += 1\n",
    "        x = eval(str('np.random.'+ distribution[dist]))(paramlist[0],paramlist[1])\n",
    "    countvec.append(count) \n",
    "    \n",
    "# display results\n",
    "print(' ')\n",
    "print('Chosen distribution -',distribution[dist],'(',paramlist[0],',',paramlist[1],')')\n",
    "max_counter = max(countvec)\n",
    "print('maximum number of variables to be added: ', max_counter)\n",
    "print('mean number of variables to be added: ', st.mean(countvec))\n",
    "print('percentage of number of variables to be added in ', iterations, ' iterations')\n",
    "for i in range (max_counter+1) :\n",
    "    count = countvec.count(i)\n",
    "    print (i, count/iterations*100)"
   ]
  },
  {
   "cell_type": "markdown",
   "id": "66261f51",
   "metadata": {},
   "source": [
    "### Inspection Paradox"
   ]
  },
  {
   "cell_type": "code",
   "execution_count": 110,
   "id": "a9f1b03b",
   "metadata": {},
   "outputs": [
    {
     "name": "stdout",
     "output_type": "stream",
     "text": [
      "[0.20616000133227463, 1.0957247174566243, 1.336120497213092, 1.6910208382248801, 2.066710062107499, 2.577681533900618, 3.100216339267201, 3.8373804417046373, 4.217298687042911, 4.914514740641864]\n"
     ]
    }
   ],
   "source": [
    "t_list = list()\n",
    "x = np.random.uniform(0.0,1.0,10) #inter arrival time of buses, can change distribution to exponential for poisson process\n",
    "\n",
    "y=0\n",
    "for i in x:\n",
    "    y = y + i\n",
    "    t_list.append(y)\n",
    "    \n",
    "print(t_list) # arrival time of buses (Tn)"
   ]
  },
  {
   "cell_type": "code",
   "execution_count": 111,
   "id": "7889a687",
   "metadata": {
    "scrolled": true
   },
   "outputs": [
    {
     "data": {
      "text/plain": [
       "array([2.17439584, 0.28346108, 1.67509846, 4.32568113, 4.19959695,\n",
       "       4.81803033, 0.97479462, 0.57653027, 0.14814556, 2.20934993,\n",
       "       4.77435481, 2.67436264, 2.24665343, 1.70639791, 3.47643242,\n",
       "       0.52362278, 4.58976806, 2.70416161, 3.29782736, 1.77319265,\n",
       "       3.16564275, 0.48238322, 4.77561909, 3.77499394, 2.43606157,\n",
       "       0.89518892, 0.04863925, 3.57845847, 1.72697214, 0.67710811,\n",
       "       3.17768109, 2.22910495, 1.05764061, 0.530573  , 0.74552968,\n",
       "       2.08336759, 2.31101979, 2.53240814, 2.84486092, 2.79932088,\n",
       "       1.42673336, 3.79074176, 2.10869475, 4.711313  , 3.07111637,\n",
       "       3.35519501, 2.38031869, 2.4018237 , 2.53796102, 4.08481557,\n",
       "       3.58601409, 1.25350557, 3.72410457, 1.0705244 , 0.19466782,\n",
       "       0.18068242, 0.97039592, 3.12136252, 0.41274541, 0.76453475,\n",
       "       0.35045537, 0.04922878, 0.59320781, 0.99900052, 2.53094674,\n",
       "       4.03062174, 4.66061362, 2.28697861, 3.85207701, 0.67968874,\n",
       "       4.6606742 , 1.97488041, 2.63936019, 0.55741975, 3.20061181,\n",
       "       2.09802623, 0.3964129 , 2.71203379, 0.12042005, 3.45437104,\n",
       "       2.42092967, 2.27980642, 3.23664437, 0.12792281, 3.64709372,\n",
       "       2.5304143 , 1.17837982, 3.11563047, 0.38666681, 3.4606021 ,\n",
       "       0.24677499, 4.61568376, 3.82632945, 1.61564168, 2.40307977,\n",
       "       4.43549469, 1.26443372, 0.67913344, 3.65549323, 0.21020823])"
      ]
     },
     "execution_count": 111,
     "metadata": {},
     "output_type": "execute_result"
    }
   ],
   "source": [
    "# passenger arrival time\n",
    "p_arrivals = np.random.uniform(0, max(t_list),100)\n",
    "p_arrivals"
   ]
  },
  {
   "cell_type": "code",
   "execution_count": 112,
   "id": "0163632d",
   "metadata": {},
   "outputs": [],
   "source": [
    "index = np.searchsorted(t_list, p_arrivals, side='right') # mapping index for passenger arrival"
   ]
  },
  {
   "cell_type": "code",
   "execution_count": 113,
   "id": "d8d081b7",
   "metadata": {},
   "outputs": [
    {
     "data": {
      "text/plain": [
       "array([5, 1, 3, 9, 8, 9, 1, 1, 0, 5, 9, 6, 5, 4, 7, 1, 9, 6, 7, 4, 7, 1,\n",
       "       9, 7, 5, 1, 0, 7, 4, 1, 7, 5, 1, 1, 1, 5, 5, 5, 6, 6, 3, 7, 5, 9,\n",
       "       6, 7, 5, 5, 5, 8, 7, 2, 7, 1, 0, 0, 1, 7, 1, 1, 1, 0, 1, 1, 5, 8,\n",
       "       9, 5, 8, 1, 9, 4, 6, 1, 7, 5, 1, 6, 0, 7, 5, 5, 7, 0, 7, 5, 2, 7,\n",
       "       1, 7, 1, 9, 7, 3, 5, 9, 2, 1, 7, 1], dtype=int64)"
      ]
     },
     "execution_count": 113,
     "metadata": {},
     "output_type": "execute_result"
    }
   ],
   "source": [
    "index"
   ]
  },
  {
   "cell_type": "code",
   "execution_count": 114,
   "id": "1125d465",
   "metadata": {},
   "outputs": [
    {
     "data": {
      "text/plain": [
       "array([0.20616   , 0.88956472, 0.24039578, 0.35490034, 0.37568922,\n",
       "       0.51097147, 0.52253481, 0.7371641 , 0.37991825, 0.69721605])"
      ]
     },
     "execution_count": 114,
     "metadata": {},
     "output_type": "execute_result"
    }
   ],
   "source": [
    "x"
   ]
  },
  {
   "cell_type": "code",
   "execution_count": 115,
   "id": "0cbce1a8",
   "metadata": {},
   "outputs": [],
   "source": [
    "int_arrivals_p = list()\n",
    "for i in range(len(p_arrivals)):\n",
    "    int_arrivals_p.append(x[index[i]])"
   ]
  },
  {
   "cell_type": "code",
   "execution_count": 116,
   "id": "6ee0439e",
   "metadata": {
    "scrolled": true
   },
   "outputs": [
    {
     "data": {
      "text/plain": [
       "[0.5109714717931187,\n",
       " 0.8895647161243496,\n",
       " 0.35490034101178825,\n",
       " 0.6972160535989528,\n",
       " 0.37991824533827345,\n",
       " 0.6972160535989528,\n",
       " 0.8895647161243496,\n",
       " 0.8895647161243496,\n",
       " 0.20616000133227463,\n",
       " 0.5109714717931187,\n",
       " 0.6972160535989528,\n",
       " 0.5225348053665829,\n",
       " 0.5109714717931187,\n",
       " 0.37568922388261905,\n",
       " 0.7371641024374361,\n",
       " 0.8895647161243496,\n",
       " 0.6972160535989528,\n",
       " 0.5225348053665829,\n",
       " 0.7371641024374361,\n",
       " 0.37568922388261905,\n",
       " 0.7371641024374361,\n",
       " 0.8895647161243496,\n",
       " 0.6972160535989528,\n",
       " 0.7371641024374361,\n",
       " 0.5109714717931187,\n",
       " 0.8895647161243496,\n",
       " 0.20616000133227463,\n",
       " 0.7371641024374361,\n",
       " 0.37568922388261905,\n",
       " 0.8895647161243496,\n",
       " 0.7371641024374361,\n",
       " 0.5109714717931187,\n",
       " 0.8895647161243496,\n",
       " 0.8895647161243496,\n",
       " 0.8895647161243496,\n",
       " 0.5109714717931187,\n",
       " 0.5109714717931187,\n",
       " 0.5109714717931187,\n",
       " 0.5225348053665829,\n",
       " 0.5225348053665829,\n",
       " 0.35490034101178825,\n",
       " 0.7371641024374361,\n",
       " 0.5109714717931187,\n",
       " 0.6972160535989528,\n",
       " 0.5225348053665829,\n",
       " 0.7371641024374361,\n",
       " 0.5109714717931187,\n",
       " 0.5109714717931187,\n",
       " 0.5109714717931187,\n",
       " 0.37991824533827345,\n",
       " 0.7371641024374361,\n",
       " 0.24039577975646775,\n",
       " 0.7371641024374361,\n",
       " 0.8895647161243496,\n",
       " 0.20616000133227463,\n",
       " 0.20616000133227463,\n",
       " 0.8895647161243496,\n",
       " 0.7371641024374361,\n",
       " 0.8895647161243496,\n",
       " 0.8895647161243496,\n",
       " 0.8895647161243496,\n",
       " 0.20616000133227463,\n",
       " 0.8895647161243496,\n",
       " 0.8895647161243496,\n",
       " 0.5109714717931187,\n",
       " 0.37991824533827345,\n",
       " 0.6972160535989528,\n",
       " 0.5109714717931187,\n",
       " 0.37991824533827345,\n",
       " 0.8895647161243496,\n",
       " 0.6972160535989528,\n",
       " 0.37568922388261905,\n",
       " 0.5225348053665829,\n",
       " 0.8895647161243496,\n",
       " 0.7371641024374361,\n",
       " 0.5109714717931187,\n",
       " 0.8895647161243496,\n",
       " 0.5225348053665829,\n",
       " 0.20616000133227463,\n",
       " 0.7371641024374361,\n",
       " 0.5109714717931187,\n",
       " 0.5109714717931187,\n",
       " 0.7371641024374361,\n",
       " 0.20616000133227463,\n",
       " 0.7371641024374361,\n",
       " 0.5109714717931187,\n",
       " 0.24039577975646775,\n",
       " 0.7371641024374361,\n",
       " 0.8895647161243496,\n",
       " 0.7371641024374361,\n",
       " 0.8895647161243496,\n",
       " 0.6972160535989528,\n",
       " 0.7371641024374361,\n",
       " 0.35490034101178825,\n",
       " 0.5109714717931187,\n",
       " 0.6972160535989528,\n",
       " 0.24039577975646775,\n",
       " 0.8895647161243496,\n",
       " 0.7371641024374361,\n",
       " 0.8895647161243496]"
      ]
     },
     "execution_count": 116,
     "metadata": {},
     "output_type": "execute_result"
    }
   ],
   "source": [
    "int_arrivals_p"
   ]
  },
  {
   "cell_type": "code",
   "execution_count": 117,
   "id": "b43e5617",
   "metadata": {},
   "outputs": [
    {
     "data": {
      "text/plain": [
       "0.6194547151943474"
      ]
     },
     "execution_count": 117,
     "metadata": {},
     "output_type": "execute_result"
    }
   ],
   "source": [
    "sum(int_arrivals_p)/len(int_arrivals_p) # Average inter arrival time from passenger point of view"
   ]
  },
  {
   "cell_type": "code",
   "execution_count": 118,
   "id": "49a3470c",
   "metadata": {},
   "outputs": [
    {
     "data": {
      "text/plain": [
       "0.4914514740641863"
      ]
     },
     "execution_count": 118,
     "metadata": {},
     "output_type": "execute_result"
    }
   ],
   "source": [
    "x.mean() # Average inter arrival time of buses"
   ]
  },
  {
   "cell_type": "code",
   "execution_count": 119,
   "id": "9cf9b898",
   "metadata": {},
   "outputs": [
    {
     "data": {
      "image/png": "[encoded data removed]",
      "text/plain": [
       "<Figure size 432x288 with 1 Axes>"
      ]
     },
     "metadata": {
      "needs_background": "light"
     },
     "output_type": "display_data"
    }
   ],
   "source": [
    "plt.step(t_list,[i for i in range(1,11)], 'g', where='pre') # t_list bus arrival time, i - ith renewal\n",
    "plt.show()"
   ]
  },
  {
   "cell_type": "markdown",
   "id": "a7df046f",
   "metadata": {},
   "source": [
    "### Simulate Renewal Process"
   ]
  },
  {
   "cell_type": "markdown",
   "id": "af3ebcef",
   "metadata": {},
   "source": [
    "#### Renewal for Poisson process"
   ]
  },
  {
   "cell_type": "code",
   "execution_count": 120,
   "id": "7b9bdebe",
   "metadata": {},
   "outputs": [],
   "source": [
    "# single simulation\n",
    "T=30 #time that system is observed\n",
    "t=0 # arrival time\n",
    "n=0 # number of renewal\n",
    "list1=[] # list of interarrival time\n",
    "arrivals=[] # list of arrival times\n",
    "while t<T:\n",
    "    x=np.random.exponential(5)# on an average interarrival time is approx 5 minutes\n",
    "    t=t+x\n",
    "    n=n+1\n",
    "    list1.append(x) # inter arrival times\n",
    "    arrivals.append(t) # arrival times\n",
    "    "
   ]
  },
  {
   "cell_type": "code",
   "execution_count": 121,
   "id": "6b0dd962",
   "metadata": {},
   "outputs": [
    {
     "data": {
      "text/plain": [
       "6"
      ]
     },
     "execution_count": 121,
     "metadata": {},
     "output_type": "execute_result"
    }
   ],
   "source": [
    "n"
   ]
  },
  {
   "cell_type": "code",
   "execution_count": 122,
   "id": "005a59f7",
   "metadata": {},
   "outputs": [
    {
     "data": {
      "text/plain": [
       "[4.968338828159905,\n",
       " 5.674912586187063,\n",
       " 8.829809081562678,\n",
       " 11.77948093467344,\n",
       " 12.529958519319196,\n",
       " 35.40739676332507]"
      ]
     },
     "execution_count": 122,
     "metadata": {},
     "output_type": "execute_result"
    }
   ],
   "source": [
    "arrivals"
   ]
  },
  {
   "cell_type": "code",
   "execution_count": 132,
   "id": "1200d17d",
   "metadata": {},
   "outputs": [],
   "source": [
    "# 1000 simulations\n",
    "T=100 #time 30\n",
    "Nt=[]\n",
    "for i in range (0,1000):\n",
    "    t=0\n",
    "    n=0\n",
    "    while t<T :\n",
    "        x=np.random.exponential(5) #inter arrival\n",
    "        t=t+x # arrival\n",
    "        n=n+1 # number of renewals\n",
    "    Nt.append(n) # total renewals in time T for 1000 iterations"
   ]
  },
  {
   "cell_type": "code",
   "execution_count": 136,
   "id": "96ac3c45",
   "metadata": {},
   "outputs": [
    {
     "data": {
      "text/plain": [
       "1000"
      ]
     },
     "execution_count": 136,
     "metadata": {},
     "output_type": "execute_result"
    }
   ],
   "source": [
    "len(Nt)"
   ]
  },
  {
   "cell_type": "code",
   "execution_count": 134,
   "id": "af8d0825",
   "metadata": {},
   "outputs": [
    {
     "data": {
      "text/plain": [
       "0.2095"
      ]
     },
     "execution_count": 134,
     "metadata": {},
     "output_type": "execute_result"
    }
   ],
   "source": [
    "# limiting behavior of poisson process\n",
    "sum(Nt)/(T*1000) # this value should approx 1/5 where 5 is the mean inter arrival time"
   ]
  },
  {
   "cell_type": "code",
   "execution_count": 135,
   "id": "ec3d03ff",
   "metadata": {},
   "outputs": [
    {
     "data": {
      "text/plain": [
       "20.95"
      ]
     },
     "execution_count": 135,
     "metadata": {},
     "output_type": "execute_result"
    }
   ],
   "source": [
    "sum(Nt)/len(Nt) # average no. of renewals should be similar to n (theoretical/ analytical solution)"
   ]
  },
  {
   "cell_type": "markdown",
   "id": "caecc265",
   "metadata": {},
   "source": [
    "#### Visualization of Renewal process"
   ]
  },
  {
   "cell_type": "code",
   "execution_count": 130,
   "id": "9b268f15",
   "metadata": {},
   "outputs": [
    {
     "data": {
      "image/png": "[encoded data removed]",
      "text/plain": [
       "<Figure size 432x288 with 1 Axes>"
      ]
     },
     "metadata": {
      "needs_background": "light"
     },
     "output_type": "display_data"
    }
   ],
   "source": [
    "plt.step(arrivals,[x for x in range(0,len(arrivals))])\n",
    "plt.show()"
   ]
  },
  {
   "cell_type": "code",
   "execution_count": 133,
   "id": "0283b33b",
   "metadata": {
    "scrolled": true
   },
   "outputs": [
    {
     "data": {
      "text/plain": [
       "[0.7182147448851919,\n",
       " 1.497779203881919,\n",
       " 2.2807371366895497,\n",
       " 3.087490314277801,\n",
       " 3.7137949418588536,\n",
       " 4.707850110008502,\n",
       " 5.608713871151931,\n",
       " 6.156709481715817,\n",
       " 6.816021374937094,\n",
       " 7.558493477927897,\n",
       " 8.394509018866463,\n",
       " 9.127618730940892,\n",
       " 9.796148098251457,\n",
       " 10.78993487064335,\n",
       " 11.553950570386755,\n",
       " 12.451348751474576,\n",
       " 13.334390035407637,\n",
       " 14.033576356929082,\n",
       " 14.752179042033001,\n",
       " 15.63826561174624,\n",
       " 16.588111861220316,\n",
       " 17.232164053254458,\n",
       " 18.180714407184336,\n",
       " 19.08803827695711,\n",
       " 19.98235954691738,\n",
       " 20.944048146068933,\n",
       " 21.708798493896815,\n",
       " 22.398595869459868,\n",
       " 23.319070994134844,\n",
       " 24.158821309066166,\n",
       " 24.744929633616792,\n",
       " 25.632407802569382,\n",
       " 26.24026121673794,\n",
       " 27.108035154637996,\n",
       " 28.094556015164116,\n",
       " 28.637477897554795,\n",
       " 29.421617526744463,\n",
       " 30.07046005103012]"
      ]
     },
     "execution_count": 133,
     "metadata": {},
     "output_type": "execute_result"
    }
   ],
   "source": [
    "arrivals"
   ]
  },
  {
   "cell_type": "markdown",
   "id": "c0c55614",
   "metadata": {},
   "source": [
    "#### Uniform/Normal distn of inter arrival"
   ]
  },
  {
   "cell_type": "code",
   "execution_count": 137,
   "id": "855b2b74",
   "metadata": {},
   "outputs": [],
   "source": [
    "# single simulation -  theoretical\n",
    "T=30 #time that system is observed\n",
    "t=0 # arrival time\n",
    "n=0 # number of renewal\n",
    "list1=[] # list of interarrival time\n",
    "arrivals=[] # list of arrival times\n",
    "while t<T:\n",
    "    x=np.random.uniform(0.5,1) # distribution of interarrival time can try normal\n",
    "    t=t+x\n",
    "    n=n+1\n",
    "    list1.append(x) # inter arrival times\n",
    "    arrivals.append(t) # arrival times\n",
    "    "
   ]
  },
  {
   "cell_type": "code",
   "execution_count": 138,
   "id": "bde9100f",
   "metadata": {},
   "outputs": [
    {
     "data": {
      "text/plain": [
       "41"
      ]
     },
     "execution_count": 138,
     "metadata": {},
     "output_type": "execute_result"
    }
   ],
   "source": [
    "n"
   ]
  },
  {
   "cell_type": "code",
   "execution_count": 139,
   "id": "0995ddb6",
   "metadata": {},
   "outputs": [],
   "source": [
    "# 1000 simulations\n",
    "T=30 #time 30\n",
    "Nt=[]\n",
    "for i in range (0,1000):\n",
    "    t=0\n",
    "    n=0\n",
    "    while t<T :\n",
    "        x=np.random.uniform(0.5,1) #inter arrival distribution\n",
    "        t=t+x # arrival\n",
    "        n=n+1 # number of renewals\n",
    "    Nt.append(n) # total renewals in time T for 100 iterations"
   ]
  },
  {
   "cell_type": "code",
   "execution_count": 140,
   "id": "498b9268",
   "metadata": {},
   "outputs": [
    {
     "data": {
      "text/plain": [
       "1.3509333333333333"
      ]
     },
     "execution_count": 140,
     "metadata": {},
     "output_type": "execute_result"
    }
   ],
   "source": [
    "# limiting behaviour of Renewal process\n",
    "sum(Nt)/(T*1000) # should approximate 1/mean of distribution ~ 1/0.75"
   ]
  },
  {
   "cell_type": "code",
   "execution_count": 141,
   "id": "9c70d7f3",
   "metadata": {},
   "outputs": [
    {
     "data": {
      "text/plain": [
       "1.3333333333333333"
      ]
     },
     "execution_count": 141,
     "metadata": {},
     "output_type": "execute_result"
    }
   ],
   "source": [
    "1/.75"
   ]
  },
  {
   "cell_type": "code",
   "execution_count": 142,
   "id": "8d776a63",
   "metadata": {},
   "outputs": [
    {
     "data": {
      "text/plain": [
       "40.528"
      ]
     },
     "execution_count": 142,
     "metadata": {},
     "output_type": "execute_result"
    }
   ],
   "source": [
    "sum(Nt)/len(Nt) # should approximate value of n (analytical no. of renewals)"
   ]
  },
  {
   "cell_type": "markdown",
   "id": "27bf37eb",
   "metadata": {},
   "source": [
    "#### Visualization of Renewal process"
   ]
  },
  {
   "cell_type": "code",
   "execution_count": 143,
   "id": "9f8a6d15",
   "metadata": {},
   "outputs": [
    {
     "data": {
      "image/png": "[encoded data removed]",
      "text/plain": [
       "<Figure size 432x288 with 1 Axes>"
      ]
     },
     "metadata": {
      "needs_background": "light"
     },
     "output_type": "display_data"
    }
   ],
   "source": [
    "plt.step(arrivals,[x for x in range(0,len(arrivals))])\n",
    "plt.show()"
   ]
  },
  {
   "cell_type": "code",
   "execution_count": null,
   "id": "dc13f6aa",
   "metadata": {},
   "outputs": [],
   "source": []
  }
 ],
 "metadata": {
  "kernelspec": {
   "display_name": "Python 3",
   "language": "python",
   "name": "python3"
  },
  "language_info": {
   "codemirror_mode": {
    "name": "ipython",
    "version": 3
   },
   "file_extension": ".py",
   "mimetype": "text/x-python",
   "name": "python",
   "nbconvert_exporter": "python",
   "pygments_lexer": "ipython3",
   "version": "3.8.8"
  }
 },
 "nbformat": 4,
 "nbformat_minor": 5
}
